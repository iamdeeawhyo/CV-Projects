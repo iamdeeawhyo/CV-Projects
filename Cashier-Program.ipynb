{
 "cells": [
  {
   "cell_type": "code",
   "execution_count": null,
   "id": "3fee23d1",
   "metadata": {},
   "outputs": [],
   "source": [
    "cart_map = []\n",
    "units_map = []\n",
    "items_map = []\n",
    "shop = {'Fish': 200, 'Vegetables': 50, 'Spices': 10, 'Meat': 150, 'Rice': 100, 'Tomato': 50, 'Pepper': 30}\n"
   ]
  },
  {
   "cell_type": "code",
   "execution_count": null,
   "id": "16e03308",
   "metadata": {},
   "outputs": [],
   "source": []
  },
  {
   "cell_type": "code",
   "execution_count": null,
   "id": "af9ebf70",
   "metadata": {},
   "outputs": [],
   "source": [
    "def shopwise(item, units):\n",
    "    units = float(units)\n",
    "    my_cost = round((shop[item])*units, 2)\n",
    "    return my_cost"
   ]
  },
  {
   "cell_type": "code",
   "execution_count": null,
   "id": "c076616b",
   "metadata": {},
   "outputs": [],
   "source": [
    "\n",
    "   "
   ]
  },
  {
   "cell_type": "code",
   "execution_count": null,
   "id": "5f12a247",
   "metadata": {},
   "outputs": [],
   "source": [
    "def shopping():\n",
    "    a = input(f\"\\n What do you want to buy?\\n \")\n",
    "    a = a.strip().title()\n",
    "    \n",
    "    if a in shop:\n",
    "        b = input(f\"\\n How many units of {a.lower()} do you want to buy?\\n \")\n",
    "        try:\n",
    "            cost = shopwise(a,b)\n",
    "            cart_map.append(cost)\n",
    "            items_map.append(a)\n",
    "            units_map.append(int(b))\n",
    "        except ValueError:\n",
    "            print(\"Invalid input\\n\")\n",
    "            print(\" Please try again!\\n\")\n",
    "            b = input(f\"\\n How many units of {a.lower()} do you want to buy?\\n \")\n",
    "            try:\n",
    "                cost = shopwise(a,b)\n",
    "                cart_map.append(cost)\n",
    "                items_map.append(a)\n",
    "                units_map.append(int(b))\n",
    "            except ValueError:\n",
    "                print(\"Another invalid input\")\n",
    "                cost = \"not available because you gave an invalid input! Try again later!\"\n",
    "       \n",
    "        print(f\"\\n Your total cost for {b} units of {a} is {cost} \")\n",
    "    else:\n",
    "            print(f\"\\n Sorry! We do not have {a.lower()} in stock at the moment! \")\n",
    "\n",
    "\n"
   ]
  },
  {
   "cell_type": "code",
   "execution_count": null,
   "id": "a2a27c92",
   "metadata": {},
   "outputs": [],
   "source": [
    "def invoice_mode():\n",
    "    start = 0\n",
    "    v = len(items_map)\n",
    "    print(\"Item \\t\\t\\t Units \\t\\t\\t Cost\")\n",
    "    while (start < v):\n",
    "        if len(items_map[start]) > 7:\n",
    "            print(items_map[start], \"\\t\\t\", units_map[start], \"\\t\\t\\t\\t\", cart_map[start])\n",
    "        elif len(items_map[start]) >= 5:\n",
    "            print(items_map[start], \"\\t\\t\\t\", units_map[start], \"\\t\\t\\t\\t\", cart_map[start])\n",
    "        else:\n",
    "            print(items_map[start], \"\\t\\t\\t\", units_map[start], \"\\t\\t\\t\\t\", cart_map[start])\n",
    "        start += 1\n",
    "\n",
    "        "
   ]
  },
  {
   "cell_type": "code",
   "execution_count": null,
   "id": "71c42b08",
   "metadata": {},
   "outputs": [],
   "source": [
    "def user_details():\n",
    "    fname = input(\"\\n What is your first name?\\n \")\n",
    "    fname = fname.title()\n",
    "    lname = input(\"\\n What is your last name?\\n \")\n",
    "    lname = lname.title()\n",
    "    h = lambda fname,lname: fname + (\" \") + lname\n",
    "    full_name = h(fname,lname)\n",
    "    m = input(f\"\\n Hello {fname}! Please input your phone number while we process your invoice\\n \")\n",
    "    return fname, full_name,m\n",
    "\n",
    "\n",
    "def shop_list():\n",
    "    user2 = shopping()\n",
    "    c = input(\"\\n Would you like to add to your shopping list? Y for Yes, N for No\\n \")\n",
    "    if c.upper() == 'Y':\n",
    "        user2 = shop_list()\n",
    "    else:\n",
    "        name2, name1, phone = user_details()  \n",
    "        print(\"\\n\\n <<<<<Mo'dee Stores>>>>>\")\n",
    "        print(f\"\\n\\n Name ==> {name1} \\n\\n Phone number ==> {phone}\")\n",
    "        print(f\"\\n Your invoice is ready\\n\\n\")\n",
    "        total_cost = sum(cart_map)\n",
    "        user =invoice_mode() \n",
    "        print(f\"\\n\\n {name2}, your total bill is {total_cost} naira\")  \n",
    "        print(\"\\n\\n\\n******Thank you for shopping with Mo'dee stores******\")\n",
    "        \n",
    "        \n",
    "user2 = shop_list()"
   ]
  },
  {
   "cell_type": "markdown",
   "id": "d174002a",
   "metadata": {},
   "source": [
    "###### "
   ]
  }
 ],
 "metadata": {
  "kernelspec": {
   "display_name": "Python 3 (ipykernel)",
   "language": "python",
   "name": "python3"
  },
  "language_info": {
   "codemirror_mode": {
    "name": "ipython",
    "version": 3
   },
   "file_extension": ".py",
   "mimetype": "text/x-python",
   "name": "python",
   "nbconvert_exporter": "python",
   "pygments_lexer": "ipython3",
   "version": "3.7.13"
  }
 },
 "nbformat": 4,
 "nbformat_minor": 5
}
